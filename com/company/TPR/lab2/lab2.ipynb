{
 "cells": [
  {
   "cell_type": "code",
   "execution_count": 22,
   "metadata": {
    "pycharm": {
     "name": "#%%\n"
    }
   },
   "outputs": [],
   "source": [
    "import numpy as np\n",
    "import pandas as pd\n",
    "import itertools"
   ]
  },
  {
   "cell_type": "code",
   "execution_count": 23,
   "metadata": {
    "pycharm": {
     "name": "#%%\n"
    }
   },
   "outputs": [],
   "source": [
    "def f12(x1, x2):\n",
    "    return 5*pow(x1, 2) + 6*x1*pow(x2,2) - 7*pow(x2,2)+ 40\n",
    "\n",
    "def f21(x1, x2):\n",
    "    return 4*pow(x2,2) - 8*x2 + 10*pow(x1,2)*x2 - 32*x1 + 64"
   ]
  },
  {
   "cell_type": "code",
   "execution_count": 24,
   "metadata": {
    "pycharm": {
     "name": "#%%\n"
    }
   },
   "outputs": [],
   "source": [
    "step1, step2 = 0.02, 0.01\n",
    "a1, b1 =0, 3\n",
    "a2, b2 = 0, 2"
   ]
  },
  {
   "cell_type": "code",
   "execution_count": 25,
   "metadata": {
    "pycharm": {
     "name": "#%%\n"
    }
   },
   "outputs": [],
   "source": [
    "x_grid = [np.arange(a1, b1+step1/10, step1), np.arange(a2, b2+step2/10, step2)]\n",
    "indexes = list(itertools.product(x_grid[0], x_grid[1]))\n",
    "index = pd.MultiIndex.from_tuples(indexes, names=[\"x1\", \"x2\"])\n",
    "values = np.array([(f12(x1, x2), f21(x1, x2)) for x1 in x_grid[0] for x2 in x_grid[1]])\n",
    "df = pd.DataFrame(values, index=index, columns=[\"f12\", \"f21\"])\n",
    "pd.options.display.max_rows = 14"
   ]
  },
  {
   "cell_type": "code",
   "execution_count": 26,
   "metadata": {
    "pycharm": {
     "name": "#%%\n"
    }
   },
   "outputs": [
    {
     "name": "stdout",
     "output_type": "stream",
     "text": [
      "f12*\n",
      "x1   x2 \n",
      "3.0  0.0    85.0\n",
      "Name: f12, dtype: float64\n",
      "\n",
      "f21*\n",
      "x1   x2 \n",
      "0.4  0.0    51.2\n",
      "     1.6    51.2\n",
      "0.8  2.0    51.2\n",
      "1.6  1.6    51.2\n",
      "Name: f21, dtype: float64\n"
     ]
    }
   ],
   "source": [
    "max_x1_min_x1 = df.groupby(\"x1\").min().max()[\"f12\"]\n",
    "print(\"f12*\")\n",
    "print(df.loc[df['f12'] == max_x1_min_x1][\"f12\"])\n",
    "max_x2_min_x2 = df.groupby(\"x2\").min().max()[\"f21\"]\n",
    "print(\"\\nf21*\")\n",
    "print(df.loc[df['f21'] == max_x2_min_x2][\"f21\"])"
   ]
  },
  {
   "cell_type": "code",
   "execution_count": 27,
   "metadata": {
    "pycharm": {
     "name": "#%%\n"
    }
   },
   "outputs": [
    {
     "data": {
      "text/plain": "               f12       f21\nx1  x2                      \n0.0 0.00   40.0000   64.0000\n    0.01   39.9993   63.9204\n    0.02   39.9972   63.8416\n    0.03   39.9937   63.7636\n    0.04   39.9888   63.6864\n...            ...       ...\n3.0 1.96  127.2576  144.0864\n    1.97  127.6899  145.0636\n    1.98  128.1244  146.0416\n    1.99  128.5611  147.0204\n    2.00  129.0000  148.0000\n\n[30351 rows x 2 columns]",
      "text/html": "<div>\n<style scoped>\n    .dataframe tbody tr th:only-of-type {\n        vertical-align: middle;\n    }\n\n    .dataframe tbody tr th {\n        vertical-align: top;\n    }\n\n    .dataframe thead th {\n        text-align: right;\n    }\n</style>\n<table border=\"1\" class=\"dataframe\">\n  <thead>\n    <tr style=\"text-align: right;\">\n      <th></th>\n      <th></th>\n      <th>f12</th>\n      <th>f21</th>\n    </tr>\n    <tr>\n      <th>x1</th>\n      <th>x2</th>\n      <th></th>\n      <th></th>\n    </tr>\n  </thead>\n  <tbody>\n    <tr>\n      <th rowspan=\"5\" valign=\"top\">0.0</th>\n      <th>0.00</th>\n      <td>40.0000</td>\n      <td>64.0000</td>\n    </tr>\n    <tr>\n      <th>0.01</th>\n      <td>39.9993</td>\n      <td>63.9204</td>\n    </tr>\n    <tr>\n      <th>0.02</th>\n      <td>39.9972</td>\n      <td>63.8416</td>\n    </tr>\n    <tr>\n      <th>0.03</th>\n      <td>39.9937</td>\n      <td>63.7636</td>\n    </tr>\n    <tr>\n      <th>0.04</th>\n      <td>39.9888</td>\n      <td>63.6864</td>\n    </tr>\n    <tr>\n      <th>...</th>\n      <th>...</th>\n      <td>...</td>\n      <td>...</td>\n    </tr>\n    <tr>\n      <th rowspan=\"5\" valign=\"top\">3.0</th>\n      <th>1.96</th>\n      <td>127.2576</td>\n      <td>144.0864</td>\n    </tr>\n    <tr>\n      <th>1.97</th>\n      <td>127.6899</td>\n      <td>145.0636</td>\n    </tr>\n    <tr>\n      <th>1.98</th>\n      <td>128.1244</td>\n      <td>146.0416</td>\n    </tr>\n    <tr>\n      <th>1.99</th>\n      <td>128.5611</td>\n      <td>147.0204</td>\n    </tr>\n    <tr>\n      <th>2.00</th>\n      <td>129.0000</td>\n      <td>148.0000</td>\n    </tr>\n  </tbody>\n</table>\n<p>30351 rows × 2 columns</p>\n</div>"
     },
     "execution_count": 27,
     "metadata": {},
     "output_type": "execute_result"
    }
   ],
   "source": [
    "df"
   ]
  },
  {
   "cell_type": "code",
   "execution_count": 28,
   "metadata": {
    "pycharm": {
     "name": "#%%\n"
    }
   },
   "outputs": [
    {
     "name": "stdout",
     "output_type": "stream",
     "text": [
      "21.534099999999995\n"
     ]
    }
   ],
   "source": [
    "df[\"d12\"] = abs(df[\"f12\"]-145)\n",
    "df[\"d21\"] = abs(df[\"f21\"]-114)\n",
    "df[\"max_d\"] = [max(ab[0], ab[1]) for ab in list(zip(df[\"d12\"], df[\"d21\"]))]\n",
    "min_v = min(df[\"max_d\"])\n",
    "print(min_v)"
   ]
  },
  {
   "cell_type": "code",
   "execution_count": 29,
   "metadata": {
    "pycharm": {
     "name": "#%%\n"
    }
   },
   "outputs": [
    {
     "data": {
      "text/plain": "               f12       f21      d12      d21    max_d\nx1  x2                                                 \n3.0 1.87  123.4659  135.3276  21.5341  21.3276  21.5341",
      "text/html": "<div>\n<style scoped>\n    .dataframe tbody tr th:only-of-type {\n        vertical-align: middle;\n    }\n\n    .dataframe tbody tr th {\n        vertical-align: top;\n    }\n\n    .dataframe thead th {\n        text-align: right;\n    }\n</style>\n<table border=\"1\" class=\"dataframe\">\n  <thead>\n    <tr style=\"text-align: right;\">\n      <th></th>\n      <th></th>\n      <th>f12</th>\n      <th>f21</th>\n      <th>d12</th>\n      <th>d21</th>\n      <th>max_d</th>\n    </tr>\n    <tr>\n      <th>x1</th>\n      <th>x2</th>\n      <th></th>\n      <th></th>\n      <th></th>\n      <th></th>\n      <th></th>\n    </tr>\n  </thead>\n  <tbody>\n    <tr>\n      <th>3.0</th>\n      <th>1.87</th>\n      <td>123.4659</td>\n      <td>135.3276</td>\n      <td>21.5341</td>\n      <td>21.3276</td>\n      <td>21.5341</td>\n    </tr>\n  </tbody>\n</table>\n</div>"
     },
     "execution_count": 29,
     "metadata": {},
     "output_type": "execute_result"
    }
   ],
   "source": [
    "df.loc[df[\"max_d\"] == min_v]"
   ]
  },
  {
   "cell_type": "code",
   "execution_count": 30,
   "metadata": {
    "pycharm": {
     "name": "#%%\n"
    }
   },
   "outputs": [
    {
     "data": {
      "text/plain": "               f12       f21       d12      d21     max_d\nx1  x2                                                   \n0.0 0.00   40.0000   64.0000  105.0000  50.0000  105.0000\n    0.01   39.9993   63.9204  105.0007  50.0796  105.0007\n    0.02   39.9972   63.8416  105.0028  50.1584  105.0028\n    0.03   39.9937   63.7636  105.0063  50.2364  105.0063\n    0.04   39.9888   63.6864  105.0112  50.3136  105.0112\n...            ...       ...       ...      ...       ...\n3.0 1.96  127.2576  144.0864   17.7424  30.0864   30.0864\n    1.97  127.6899  145.0636   17.3101  31.0636   31.0636\n    1.98  128.1244  146.0416   16.8756  32.0416   32.0416\n    1.99  128.5611  147.0204   16.4389  33.0204   33.0204\n    2.00  129.0000  148.0000   16.0000  34.0000   34.0000\n\n[30351 rows x 5 columns]",
      "text/html": "<div>\n<style scoped>\n    .dataframe tbody tr th:only-of-type {\n        vertical-align: middle;\n    }\n\n    .dataframe tbody tr th {\n        vertical-align: top;\n    }\n\n    .dataframe thead th {\n        text-align: right;\n    }\n</style>\n<table border=\"1\" class=\"dataframe\">\n  <thead>\n    <tr style=\"text-align: right;\">\n      <th></th>\n      <th></th>\n      <th>f12</th>\n      <th>f21</th>\n      <th>d12</th>\n      <th>d21</th>\n      <th>max_d</th>\n    </tr>\n    <tr>\n      <th>x1</th>\n      <th>x2</th>\n      <th></th>\n      <th></th>\n      <th></th>\n      <th></th>\n      <th></th>\n    </tr>\n  </thead>\n  <tbody>\n    <tr>\n      <th rowspan=\"5\" valign=\"top\">0.0</th>\n      <th>0.00</th>\n      <td>40.0000</td>\n      <td>64.0000</td>\n      <td>105.0000</td>\n      <td>50.0000</td>\n      <td>105.0000</td>\n    </tr>\n    <tr>\n      <th>0.01</th>\n      <td>39.9993</td>\n      <td>63.9204</td>\n      <td>105.0007</td>\n      <td>50.0796</td>\n      <td>105.0007</td>\n    </tr>\n    <tr>\n      <th>0.02</th>\n      <td>39.9972</td>\n      <td>63.8416</td>\n      <td>105.0028</td>\n      <td>50.1584</td>\n      <td>105.0028</td>\n    </tr>\n    <tr>\n      <th>0.03</th>\n      <td>39.9937</td>\n      <td>63.7636</td>\n      <td>105.0063</td>\n      <td>50.2364</td>\n      <td>105.0063</td>\n    </tr>\n    <tr>\n      <th>0.04</th>\n      <td>39.9888</td>\n      <td>63.6864</td>\n      <td>105.0112</td>\n      <td>50.3136</td>\n      <td>105.0112</td>\n    </tr>\n    <tr>\n      <th>...</th>\n      <th>...</th>\n      <td>...</td>\n      <td>...</td>\n      <td>...</td>\n      <td>...</td>\n      <td>...</td>\n    </tr>\n    <tr>\n      <th rowspan=\"5\" valign=\"top\">3.0</th>\n      <th>1.96</th>\n      <td>127.2576</td>\n      <td>144.0864</td>\n      <td>17.7424</td>\n      <td>30.0864</td>\n      <td>30.0864</td>\n    </tr>\n    <tr>\n      <th>1.97</th>\n      <td>127.6899</td>\n      <td>145.0636</td>\n      <td>17.3101</td>\n      <td>31.0636</td>\n      <td>31.0636</td>\n    </tr>\n    <tr>\n      <th>1.98</th>\n      <td>128.1244</td>\n      <td>146.0416</td>\n      <td>16.8756</td>\n      <td>32.0416</td>\n      <td>32.0416</td>\n    </tr>\n    <tr>\n      <th>1.99</th>\n      <td>128.5611</td>\n      <td>147.0204</td>\n      <td>16.4389</td>\n      <td>33.0204</td>\n      <td>33.0204</td>\n    </tr>\n    <tr>\n      <th>2.00</th>\n      <td>129.0000</td>\n      <td>148.0000</td>\n      <td>16.0000</td>\n      <td>34.0000</td>\n      <td>34.0000</td>\n    </tr>\n  </tbody>\n</table>\n<p>30351 rows × 5 columns</p>\n</div>"
     },
     "execution_count": 30,
     "metadata": {},
     "output_type": "execute_result"
    }
   ],
   "source": [
    "df"
   ]
  },
  {
   "cell_type": "code",
   "execution_count": 30,
   "outputs": [],
   "source": [],
   "metadata": {
    "collapsed": false,
    "pycharm": {
     "name": "#%%\n"
    }
   }
  },
  {
   "cell_type": "code",
   "execution_count": 30,
   "outputs": [],
   "source": [],
   "metadata": {
    "collapsed": false,
    "pycharm": {
     "name": "#%%\n"
    }
   }
  }
 ],
 "metadata": {
  "kernelspec": {
   "display_name": "Python 3",
   "language": "python",
   "name": "python3"
  },
  "language_info": {
   "codemirror_mode": {
    "name": "ipython",
    "version": 3
   },
   "file_extension": ".py",
   "mimetype": "text/x-python",
   "name": "python",
   "nbconvert_exporter": "python",
   "pygments_lexer": "ipython3",
   "version": "3.8.3"
  }
 },
 "nbformat": 4,
 "nbformat_minor": 4
}