{
 "cells": [
  {
   "cell_type": "code",
   "execution_count": 2,
   "outputs": [
    {
     "name": "stdout",
     "output_type": "stream",
     "text": [
      "          x  f1/f1shtrih  f2/f2shtrih       maxs      mins\n",
      "0     0.000     1.000000     5.263158   5.263158  1.000000\n",
      "1     0.001     0.993116     5.263157   5.263157  0.993116\n",
      "2     0.002     0.987648     5.263153   5.263153  0.987648\n",
      "3     0.003     0.982724     5.263146   5.263146  0.982724\n",
      "4     0.004     0.978156     5.263137   5.263137  0.978156\n",
      "...     ...          ...          ...        ...       ...\n",
      "2996  2.996    26.774370    -6.547389  26.774370 -6.547389\n",
      "2997  2.997    26.830587    -6.555275  26.830587 -6.555275\n",
      "2998  2.998    26.886930    -6.563163  26.886930 -6.563163\n",
      "2999  2.999    26.943401    -6.571054  26.943401 -6.571054\n",
      "3000  3.000    27.000000    -6.578947  27.000000 -6.578947\n",
      "\n",
      "[3001 rows x 5 columns]\n",
      "minmax = 2.027367118573413, maxmin = 2.024429324103021\n",
      "індекси є 1568 і 1569\n",
      "правильна стратегія для вибору є 1.567999999999938\n"
     ]
    }
   ],
   "source": [
    "import pandas as pd\n",
    "import math\n",
    "def f1(x):\n",
    "    return x**x\n",
    "\n",
    "def f2(x):\n",
    "    return 4-x*x\n",
    "\n",
    "f1_shtrih = 1\n",
    "f2_shtrih = 0.76\n",
    "\n",
    "x0 = 0\n",
    "x_max = 3\n",
    "\n",
    "h = 0.001\n",
    "xs=[]\n",
    "f1_div_f1_shtrih=[]\n",
    "f2_div_f2_shtrih=[]\n",
    "maxs=[]\n",
    "mins=[]\n",
    "while x0 <= x_max:\n",
    "    xs.append(x0)\n",
    "    x0+=h\n",
    "    \n",
    "for x in xs:\n",
    "    f1_div_f1_shtrih.append(f1(x)/f1_shtrih)\n",
    "    f2_div_f2_shtrih.append(f2(x)/f2_shtrih)\n",
    "\n",
    "for i in range(0,len(xs)):\n",
    "    maxs.append(max(f1_div_f1_shtrih[i],f2_div_f2_shtrih[i]))\n",
    "    mins.append(min(f1_div_f1_shtrih[i],f2_div_f2_shtrih[i]))\n",
    "\n",
    "df = pd.DataFrame()\n",
    "df[\"x\"] = xs\n",
    "df[\"f1/f1shtrih\"] = f1_div_f1_shtrih\n",
    "df[\"f2/f2shtrih\"] = f2_div_f2_shtrih\n",
    "df[\"maxs\"] = maxs\n",
    "df[\"mins\"] = mins\n",
    "print(df)\n",
    "minmax=min(maxs)\n",
    "maxmin=max(mins)\n",
    "print(f\"minmax = {minmax}, maxmin = {maxmin}\")\n",
    "id1 = mins.index(maxmin)\n",
    "id2 = maxs.index(minmax)\n",
    "print(f\"індекси є {id1} і {id2}\")\n",
    "print(f\"правильна стратегія для вибору є {xs[id1]}\")"
   ],
   "metadata": {
    "collapsed": false,
    "pycharm": {
     "name": "#%%\n"
    }
   }
  },
  {
   "cell_type": "code",
   "execution_count": null,
   "outputs": [],
   "source": [],
   "metadata": {
    "collapsed": false,
    "pycharm": {
     "name": "#%%\n"
    }
   }
  }
 ],
 "metadata": {
  "kernelspec": {
   "display_name": "Python 3 (ipykernel)",
   "language": "python",
   "name": "python3"
  },
  "language_info": {
   "codemirror_mode": {
    "name": "ipython",
    "version": 3
   },
   "file_extension": ".py",
   "mimetype": "text/x-python",
   "name": "python",
   "nbconvert_exporter": "python",
   "pygments_lexer": "ipython3",
   "version": "3.9.12"
  }
 },
 "nbformat": 4,
 "nbformat_minor": 5
}