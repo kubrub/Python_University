{
 "cells": [
  {
   "cell_type": "code",
   "execution_count": 2,
   "outputs": [
    {
     "name": "stdout",
     "output_type": "stream",
     "text": [
      "      x  f1/f1shtrih   f2/f2shtrih       maxs          mins\n",
      "0   0.0     1.000000  5.263158e+00   5.263158  1.000000e+00\n",
      "1   0.1     0.794328  5.250000e+00   5.250000  7.943282e-01\n",
      "2   0.2     0.724780  5.210526e+00   5.210526  7.247797e-01\n",
      "3   0.3     0.696845  5.144737e+00   5.144737  6.968453e-01\n",
      "4   0.4     0.693145  5.052632e+00   5.052632  6.931448e-01\n",
      "5   0.5     0.707107  4.934211e+00   4.934211  7.071068e-01\n",
      "6   0.6     0.736022  4.789474e+00   4.789474  7.360219e-01\n",
      "7   0.7     0.779056  4.618421e+00   4.618421  7.790559e-01\n",
      "8   0.8     0.836512  4.421053e+00   4.421053  8.365116e-01\n",
      "9   0.9     0.909533  4.197368e+00   4.197368  9.095326e-01\n",
      "10  1.0     1.000000  3.947368e+00   3.947368  1.000000e+00\n",
      "11  1.1     1.110534  3.671053e+00   3.671053  1.110534e+00\n",
      "12  1.2     1.244565  3.368421e+00   3.368421  1.244565e+00\n",
      "13  1.3     1.406457  3.039474e+00   3.039474  1.406457e+00\n",
      "14  1.4     1.601693  2.684211e+00   2.684211  1.601693e+00\n",
      "15  1.5     1.837117  2.302632e+00   2.302632  1.837117e+00\n",
      "16  1.6     2.121251  1.894737e+00   2.121251  1.894737e+00\n",
      "17  1.7     2.464695  1.460526e+00   2.464695  1.460526e+00\n",
      "18  1.8     2.880650  1.000000e+00   2.880650  1.000000e+00\n",
      "19  1.9     3.385570  5.131579e-01   3.385570  5.131579e-01\n",
      "20  2.0     4.000000 -2.337312e-15   4.000000 -2.337312e-15\n",
      "21  2.1     4.749638 -5.394737e-01   4.749638 -5.394737e-01\n",
      "22  2.2     5.666696 -1.105263e+00   5.666696 -1.105263e+00\n",
      "23  2.3     6.791630 -1.697368e+00   6.791630 -1.697368e+00\n",
      "24  2.4     8.175362 -2.315789e+00   8.175362 -2.315789e+00\n",
      "25  2.5     9.882118 -2.960526e+00   9.882118 -2.960526e+00\n",
      "26  2.6    11.993079 -3.631579e+00  11.993079 -3.631579e+00\n",
      "27  2.7    14.611075 -4.328947e+00  14.611075 -4.328947e+00\n",
      "28  2.8    17.866624 -5.052632e+00  17.866624 -5.052632e+00\n",
      "29  2.9    21.925737 -5.802632e+00  21.925737 -5.802632e+00\n",
      "minmax = 2.1212505710975926, maxmin = 1.894736842105262\n",
      "indexes are 16 and 16\n",
      "correct strategy to choose is 1.6000000000000003\n"
     ]
    }
   ],
   "source": [
    "import pandas as pd\n",
    "import math\n",
    "def f1(x):\n",
    "    return x**x\n",
    "\n",
    "def f2(x):\n",
    "    return 4-x*x\n",
    "\n",
    "f1_shtrih = 1\n",
    "f2_shtrih = 0.76\n",
    "\n",
    "x0 = 0\n",
    "x_max = 3\n",
    "\n",
    "h = 0.1\n",
    "xs=[]\n",
    "f1_div_f1_shtrih=[]\n",
    "f2_div_f2_shtrih=[]\n",
    "maxs=[]\n",
    "mins=[]\n",
    "while x0 <= x_max:\n",
    "    xs.append(x0)\n",
    "    x0+=h\n",
    "    \n",
    "for x in xs:\n",
    "    f1_div_f1_shtrih.append(f1(x)/f1_shtrih)\n",
    "    f2_div_f2_shtrih.append(f2(x)/f2_shtrih)\n",
    "\n",
    "for i in range(0,len(xs)):\n",
    "    maxs.append(max(f1_div_f1_shtrih[i],f2_div_f2_shtrih[i]))\n",
    "    mins.append(min(f1_div_f1_shtrih[i],f2_div_f2_shtrih[i]))\n",
    "\n",
    "df = pd.DataFrame()\n",
    "df[\"x\"] = xs\n",
    "df[\"f1/f1shtrih\"] = f1_div_f1_shtrih\n",
    "df[\"f2/f2shtrih\"] = f2_div_f2_shtrih\n",
    "df[\"maxs\"] = maxs\n",
    "df[\"mins\"] = mins\n",
    "print(df)\n",
    "minmax=min(maxs)\n",
    "maxmin=max(mins)\n",
    "print(f\"minmax = {minmax}, maxmin = {maxmin}\")\n",
    "id1 = mins.index(maxmin)\n",
    "id2 = maxs.index(minmax)\n",
    "print(f\"indexes are {id1} and {id2}\")\n",
    "print(f\"correct strategy to choose is {xs[id1]}\")"
   ],
   "metadata": {
    "collapsed": false,
    "pycharm": {
     "name": "#%%\n"
    }
   }
  },
  {
   "cell_type": "code",
   "execution_count": null,
   "outputs": [],
   "source": [],
   "metadata": {
    "collapsed": false,
    "pycharm": {
     "name": "#%%\n"
    }
   }
  }
 ],
 "metadata": {
  "kernelspec": {
   "display_name": "Python 3 (ipykernel)",
   "language": "python",
   "name": "python3"
  },
  "language_info": {
   "codemirror_mode": {
    "name": "ipython",
    "version": 3
   },
   "file_extension": ".py",
   "mimetype": "text/x-python",
   "name": "python",
   "nbconvert_exporter": "python",
   "pygments_lexer": "ipython3",
   "version": "3.9.12"
  }
 },
 "nbformat": 4,
 "nbformat_minor": 5
}